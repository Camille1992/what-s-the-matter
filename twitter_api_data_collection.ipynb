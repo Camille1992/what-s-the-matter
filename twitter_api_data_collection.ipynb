{
  "nbformat": 4,
  "nbformat_minor": 0,
  "metadata": {
    "colab": {
      "name": "twitter_api_data_collection.ipynb",
      "provenance": [],
      "authorship_tag": "ABX9TyMSSmZzZGQvlNj0MA65gNmD",
      "include_colab_link": true
    },
    "kernelspec": {
      "name": "python3",
      "display_name": "Python 3"
    },
    "language_info": {
      "name": "python"
    }
  },
  "cells": [
    {
      "cell_type": "markdown",
      "metadata": {
        "id": "view-in-github",
        "colab_type": "text"
      },
      "source": [
        "<a href=\"https://colab.research.google.com/github/sabinagio/what-s-the-matter/blob/main/twitter_api_data_collection.ipynb\" target=\"_parent\"><img src=\"https://colab.research.google.com/assets/colab-badge.svg\" alt=\"Open In Colab\"/></a>"
      ]
    },
    {
      "cell_type": "markdown",
      "source": [
        "# Twitter API data collection - proof of concept"
      ],
      "metadata": {
        "id": "xDdee3z9t4TG"
      }
    },
    {
      "cell_type": "code",
      "execution_count": null,
      "metadata": {
        "id": "c3uvppm4txgt"
      },
      "outputs": [],
      "source": [
        "# For sending GET requests from the API\n",
        "import requests\n",
        "# For saving access tokens and for file management when creating and adding to the dataset\n",
        "import os\n",
        "# For dealing with json responses we receive from the API\n",
        "import json\n",
        "# For displaying the data after\n",
        "import pandas as pd\n",
        "# For saving the response data in CSV format\n",
        "import csv\n",
        "# For parsing the dates received from twitter in readable formats\n",
        "import datetime\n",
        "import dateutil.parser\n",
        "import unicodedata\n",
        "#To add wait time between requests\n",
        "import time"
      ]
    },
    {
      "cell_type": "code",
      "source": [
        "os.environ['TOKEN'] = 'AAAAAAAAAAAAAAAAAAAAAFwFgQEAAAAAOjRNg8PpoZ29uTo2Z%2By0K7DEM3s%3DI1NuBq4xOCsYtDMg8nos58Io1kQKgdW80FSEKaaFcSK69TueFy'"
      ],
      "metadata": {
        "id": "UCB_j1Dnz7FU"
      },
      "execution_count": null,
      "outputs": []
    },
    {
      "cell_type": "code",
      "source": [
        "def auth():\n",
        "    return os.getenv('TOKEN')"
      ],
      "metadata": {
        "id": "G5qzE94X0fmf"
      },
      "execution_count": null,
      "outputs": []
    },
    {
      "cell_type": "code",
      "source": [
        "def create_headers(bearer_token):\n",
        "    headers = {\"Authorization\": \"Bearer {}\".format(bearer_token)}\n",
        "    return headers"
      ],
      "metadata": {
        "id": "_bA0sF5S0m2T"
      },
      "execution_count": null,
      "outputs": []
    },
    {
      "cell_type": "code",
      "source": [
        "def create_url(keyword, max_results=100):\n",
        "    \n",
        "    search_url = \"https://api.twitter.com/2/tweets/search/recent\" #Change to the endpoint you want to collect data from\n",
        "\n",
        "    #change params based on the endpoint you are using\n",
        "    query_params = {'query': keyword, \n",
        "                    'expansions': 'author_id, in_reply_to_user_id, geo.place_id', \n",
        "                    'tweet.fields': 'id, text, author_id, in_reply_to_user_id, geo, conversation_id, created_at, lang, public_metrics, referenced_tweets, reply_settings, source', \n",
        "                    'user.fields': 'id, name, username, created_at, description, public_metrics, verified', \n",
        "                    'place.fields': 'full_name, id, country, country_code, geo, name, place_type', \n",
        "                    'next_token': {}}\n",
        "    return (search_url, query_params)"
      ],
      "metadata": {
        "id": "dDuiM7ks2OYa"
      },
      "execution_count": null,
      "outputs": []
    },
    {
      "cell_type": "code",
      "source": [
        "def connect_to_endpoint(url, headers, params, next_token=None):\n",
        "    params['next_token'] = next_token   #params object received from create_url function\n",
        "    response = requests.request(\"GET\", url, headers = headers, params = params)\n",
        "    print(\"Endpoint Response Code: \" + str(response.status_code))\n",
        "\n",
        "    if response.status_code != 200:\n",
        "        raise Exception(response.status_code, response.text)\n",
        "        \n",
        "    return response.json()"
      ],
      "metadata": {
        "id": "89bNuFkZ6wuv"
      },
      "execution_count": null,
      "outputs": []
    },
    {
      "cell_type": "code",
      "source": [
        "#Inputs for the request\n",
        "bearer_token = auth()\n",
        "headers = create_headers(bearer_token)\n",
        "keyword = \"fear lang:en -is:retweet\""
      ],
      "metadata": {
        "id": "NrYJ64l9idyP"
      },
      "execution_count": null,
      "outputs": []
    },
    {
      "cell_type": "code",
      "source": [
        "### Small idea space\n",
        "# perhaps use \"I fear\", \"My fear\" \n",
        "# remove items that have \"fear not\"\n",
        "# How do we find what people fear? "
      ],
      "metadata": {
        "id": "cK1tXtCdDLWn"
      },
      "execution_count": null,
      "outputs": []
    },
    {
      "cell_type": "code",
      "source": [
        "url = create_url(keyword)\n",
        "json_response = connect_to_endpoint(url[0], headers, url[1])"
      ],
      "metadata": {
        "id": "S9XIa52LjCzL",
        "outputId": "8f628fe3-fc51-4a2a-9448-c2bebdf7749a",
        "colab": {
          "base_uri": "https://localhost:8080/"
        }
      },
      "execution_count": null,
      "outputs": [
        {
          "output_type": "stream",
          "name": "stdout",
          "text": [
            "Endpoint Response Code: 200\n"
          ]
        }
      ]
    },
    {
      "cell_type": "code",
      "source": [
        "json_response"
      ],
      "metadata": {
        "colab": {
          "base_uri": "https://localhost:8080/"
        },
        "id": "Cp_qDxrsCzdI",
        "outputId": "3b10c760-703b-4e2a-a323-a09fc38069f4"
      },
      "execution_count": null,
      "outputs": [
        {
          "output_type": "execute_result",
          "data": {
            "text/plain": [
              "{'data': [{'id': '1562715429591601153',\n",
              "   'source': 'Twitter for iPhone',\n",
              "   'conversation_id': '1562177791642112000',\n",
              "   'created_at': '2022-08-25T08:16:06.000Z',\n",
              "   'referenced_tweets': [{'type': 'replied_to', 'id': '1562177791642112000'}],\n",
              "   'author_id': '707126315',\n",
              "   'reply_settings': 'everyone',\n",
              "   'public_metrics': {'retweet_count': 0,\n",
              "    'reply_count': 0,\n",
              "    'like_count': 0,\n",
              "    'quote_count': 0},\n",
              "   'text': '@vibeforvids FEAR a bad mf lol',\n",
              "   'lang': 'en',\n",
              "   'in_reply_to_user_id': '1517401430868459520'},\n",
              "  {'id': '1562715416094703618',\n",
              "   'source': 'Twitter for Android',\n",
              "   'conversation_id': '1562715416094703618',\n",
              "   'created_at': '2022-08-25T08:16:03.000Z',\n",
              "   'referenced_tweets': [{'type': 'quoted', 'id': '1562708250067251200'}],\n",
              "   'author_id': '85720153',\n",
              "   'reply_settings': 'everyone',\n",
              "   'public_metrics': {'retweet_count': 0,\n",
              "    'reply_count': 0,\n",
              "    'like_count': 0,\n",
              "    'quote_count': 0},\n",
              "   'text': \"They are trying to do it by all means necessary. Trigger fear and put most people in kidna hypnosis state of mind. I tell ppl who's not fallowing to visit any facts check site and truth is all opposite of what they say about . https://t.co/421Sa0aGDY\",\n",
              "   'lang': 'en'},\n",
              "  {'id': '1562715412495990784',\n",
              "   'source': 'Twitter for Android',\n",
              "   'conversation_id': '1562715412495990784',\n",
              "   'created_at': '2022-08-25T08:16:02.000Z',\n",
              "   'author_id': '1562702890258808842',\n",
              "   'reply_settings': 'everyone',\n",
              "   'public_metrics': {'retweet_count': 0,\n",
              "    'reply_count': 0,\n",
              "    'like_count': 0,\n",
              "    'quote_count': 0},\n",
              "   'text': 'Philophobia:\\n(n.) The fear of falling in love.',\n",
              "   'lang': 'en'},\n",
              "  {'id': '1562715402622287873',\n",
              "   'source': 'WordPress.com',\n",
              "   'conversation_id': '1562715402622287873',\n",
              "   'created_at': '2022-08-25T08:16:00.000Z',\n",
              "   'author_id': '1119286872121851906',\n",
              "   'reply_settings': 'everyone',\n",
              "   'public_metrics': {'retweet_count': 0,\n",
              "    'reply_count': 0,\n",
              "    'like_count': 0,\n",
              "    'quote_count': 0},\n",
              "   'text': 'Biden forgives millions of student loans; critics fear\\xa0inflation https://t.co/uzaSAKmjXm',\n",
              "   'lang': 'en'},\n",
              "  {'id': '1562715402500997121',\n",
              "   'source': 'Twitter for Android',\n",
              "   'conversation_id': '1562715402500997121',\n",
              "   'created_at': '2022-08-25T08:16:00.000Z',\n",
              "   'author_id': '1441381150547529744',\n",
              "   'reply_settings': 'everyone',\n",
              "   'public_metrics': {'retweet_count': 0,\n",
              "    'reply_count': 0,\n",
              "    'like_count': 0,\n",
              "    'quote_count': 0},\n",
              "   'text': 'Abeg carry me reach junction, Na who get money dey fear 🚶\\u200d♂️\\n\\n#UCLdraw #ASUU https://t.co/uwSejy5qho',\n",
              "   'lang': 'en'},\n",
              "  {'id': '1562715401620180992',\n",
              "   'source': 'Twitter for Android',\n",
              "   'conversation_id': '1562462663862431745',\n",
              "   'created_at': '2022-08-25T08:16:00.000Z',\n",
              "   'referenced_tweets': [{'type': 'replied_to', 'id': '1562462663862431745'}],\n",
              "   'author_id': '1485873481170370562',\n",
              "   'reply_settings': 'everyone',\n",
              "   'public_metrics': {'retweet_count': 0,\n",
              "    'reply_count': 0,\n",
              "    'like_count': 0,\n",
              "    'quote_count': 0},\n",
              "   'text': '@MasonVersluis Buy this if you fear regret.',\n",
              "   'lang': 'en',\n",
              "   'in_reply_to_user_id': '1039692343794970624'},\n",
              "  {'id': '1562715381734993922',\n",
              "   'source': 'Twitter Web App',\n",
              "   'conversation_id': '1562715381734993922',\n",
              "   'created_at': '2022-08-25T08:15:55.000Z',\n",
              "   'referenced_tweets': [{'type': 'quoted', 'id': '1562709894633254916'}],\n",
              "   'author_id': '187516159',\n",
              "   'reply_settings': 'everyone',\n",
              "   'public_metrics': {'retweet_count': 0,\n",
              "    'reply_count': 0,\n",
              "    'like_count': 0,\n",
              "    'quote_count': 0},\n",
              "   'text': 'The confounded fear is coming true!! https://t.co/ymuwGTraOw',\n",
              "   'lang': 'en'},\n",
              "  {'id': '1562715368745218050',\n",
              "   'source': 'Echofon  Android',\n",
              "   'conversation_id': '1562715368745218050',\n",
              "   'created_at': '2022-08-25T08:15:52.000Z',\n",
              "   'author_id': '847379862167760896',\n",
              "   'reply_settings': 'everyone',\n",
              "   'public_metrics': {'retweet_count': 0,\n",
              "    'reply_count': 0,\n",
              "    'like_count': 0,\n",
              "    'quote_count': 0},\n",
              "   'text': 'Some never around and sleep together, in fear one is born in packs.\\n؟?\\nنمشے\\n\\n🔹H8🔹\\n🔹H8🔹\\n🔹H8🔹',\n",
              "   'lang': 'en'},\n",
              "  {'id': '1562715351158521857',\n",
              "   'source': 'Twitter for Mac',\n",
              "   'conversation_id': '1562683912719319040',\n",
              "   'created_at': '2022-08-25T08:15:48.000Z',\n",
              "   'referenced_tweets': [{'type': 'replied_to', 'id': '1562683912719319040'}],\n",
              "   'author_id': '1386691924317417481',\n",
              "   'reply_settings': 'everyone',\n",
              "   'public_metrics': {'retweet_count': 0,\n",
              "    'reply_count': 0,\n",
              "    'like_count': 0,\n",
              "    'quote_count': 0},\n",
              "   'text': '@Dreymwangi Fun fact: the reason why angels said: “Fear Not!” Is because they’re UGLY and SCARY creatures. Not made in the image of man,',\n",
              "   'lang': 'en',\n",
              "   'in_reply_to_user_id': '2864194450'},\n",
              "  {'id': '1562715349702754308',\n",
              "   'source': 'Twitter for Android',\n",
              "   'conversation_id': '1562711510107193345',\n",
              "   'created_at': '2022-08-25T08:15:47.000Z',\n",
              "   'referenced_tweets': [{'type': 'replied_to', 'id': '1562714611018633216'}],\n",
              "   'author_id': '1266747753687851015',\n",
              "   'reply_settings': 'everyone',\n",
              "   'public_metrics': {'retweet_count': 0,\n",
              "    'reply_count': 0,\n",
              "    'like_count': 0,\n",
              "    'quote_count': 0},\n",
              "   'text': 'ANXIETY, GUILT, FEAR, SHAME, these are the very common ways people react when they have experienced trauma. I will explain in details on a different thread.\\n\\nTrauma is experienced differently in people.\\n No matter the level of abuse, everyone experiences trauma differently.',\n",
              "   'lang': 'en',\n",
              "   'in_reply_to_user_id': '1266747753687851015'}],\n",
              " 'includes': {'users': [{'description': '♍️ ☀️ ♎️ 🌙 ♏️ 🔼  *Loser',\n",
              "    'username': 'FuckkMasi',\n",
              "    'created_at': '2013-10-09T23:22:10.000Z',\n",
              "    'name': 'Beautiful Loser',\n",
              "    'id': '707126315',\n",
              "    'public_metrics': {'followers_count': 305,\n",
              "     'following_count': 695,\n",
              "     'tweet_count': 10422,\n",
              "     'listed_count': 4},\n",
              "    'verified': False},\n",
              "   {'description': '| | | back up page @vibegotvids | | | turn on notys 🔔 ||| fighting page @vibeforfights ||| personal @slumppywhy IG / whyslumppy',\n",
              "    'username': 'vibeforvids',\n",
              "    'created_at': '2022-04-22T07:14:51.000Z',\n",
              "    'name': '(•̪●)=/̵/’̿̿ ̿ ̿ ̿ ̿ VIBEVSDAWORLD',\n",
              "    'id': '1517401430868459520',\n",
              "    'public_metrics': {'followers_count': 53472,\n",
              "     'following_count': 86,\n",
              "     'tweet_count': 496,\n",
              "     'listed_count': 134},\n",
              "    'verified': False},\n",
              "   {'description': '#Coding,#Hacking,#Cracking,#Webdesign,#Seo,#Marketing,#Science, #Politics YT https://t.co/wVOIC85lsr\\nIN https://t.co/5LPFjo2TMD \\nFB https://t.co/sSWfRcU2Af',\n",
              "    'username': 'DJukanov_Nikola',\n",
              "    'created_at': '2009-10-28T01:58:34.000Z',\n",
              "    'name': 'Nikola DJukanov',\n",
              "    'id': '85720153',\n",
              "    'public_metrics': {'followers_count': 971,\n",
              "     'following_count': 492,\n",
              "     'tweet_count': 633,\n",
              "     'listed_count': 14},\n",
              "    'verified': False},\n",
              "   {'description': \"It takes one minute to make someone's day, and one word to destroy someone's life.\",\n",
              "    'username': 'Quotes7968145',\n",
              "    'created_at': '2022-08-25T07:26:26.000Z',\n",
              "    'name': 'Sad Quotes',\n",
              "    'id': '1562702890258808842',\n",
              "    'public_metrics': {'followers_count': 0,\n",
              "     'following_count': 21,\n",
              "     'tweet_count': 4,\n",
              "     'listed_count': 0},\n",
              "    'verified': False},\n",
              "   {'description': 'We bring all the latest breaking news and top stories from all African countries.',\n",
              "    'username': 'AfricaTimesofN1',\n",
              "    'created_at': '2019-04-19T17:09:20.000Z',\n",
              "    'name': 'Africa Times of News',\n",
              "    'id': '1119286872121851906',\n",
              "    'public_metrics': {'followers_count': 335,\n",
              "     'following_count': 17,\n",
              "     'tweet_count': 209631,\n",
              "     'listed_count': 12},\n",
              "    'verified': False},\n",
              "   {'description': 'Dream Big. Work Hard. Stay Focused and live the best life. live a life other people wish they can live.',\n",
              "    'username': 'Dan_hender1',\n",
              "    'created_at': '2021-09-24T12:37:31.000Z',\n",
              "    'name': 'bobby',\n",
              "    'id': '1441381150547529744',\n",
              "    'public_metrics': {'followers_count': 144,\n",
              "     'following_count': 181,\n",
              "     'tweet_count': 495,\n",
              "     'listed_count': 0},\n",
              "    'verified': False},\n",
              "   {'description': 'I am the one and Only Ace Spaders. (o.O)\\n{Matthew Ferguson} Anyone who claims it, has seen my name in something else a long time ago. ♠️♠️♠️♠️♠️♠️♠️♠️♠️♠️♠️♠️♠️',\n",
              "    'username': 'AceSpaders',\n",
              "    'created_at': '2022-01-25T07:14:21.000Z',\n",
              "    'name': 'Ace Spaders',\n",
              "    'id': '1485873481170370562',\n",
              "    'public_metrics': {'followers_count': 357,\n",
              "     'following_count': 269,\n",
              "     'tweet_count': 1096,\n",
              "     'listed_count': 8},\n",
              "    'verified': False},\n",
              "   {'description': 'crypto + nft investor/trader | creator | entrepreneur - 1.1M on tik tok 🌅 https://t.co/aWu4cHjJm4 follow @NFTMasun + @goldsquad777 + @theknowing17',\n",
              "    'username': 'MasonVersluis',\n",
              "    'created_at': '2018-09-12T01:49:06.000Z',\n",
              "    'name': 'MASON VERSLUIS 🏆🔮',\n",
              "    'id': '1039692343794970624',\n",
              "    'public_metrics': {'followers_count': 119780,\n",
              "     'following_count': 1926,\n",
              "     'tweet_count': 7140,\n",
              "     'listed_count': 301},\n",
              "    'verified': True},\n",
              "   {'description': '#MarketingDigital #SocialMedia #DigitalTransformation,# IOT, #computing,#wireless ,#Cloud, #QA, #Cybersecurity. RTs are not my endorsements.',\n",
              "    'username': 'bangaloreshekar',\n",
              "    'created_at': '2010-09-06T13:12:16.000Z',\n",
              "    'name': 'Shekar',\n",
              "    'id': '187516159',\n",
              "    'public_metrics': {'followers_count': 273,\n",
              "     'following_count': 2125,\n",
              "     'tweet_count': 6595,\n",
              "     'listed_count': 1},\n",
              "    'verified': False},\n",
              "   {'description': 'the window of the soul indicating that the heart is at home.',\n",
              "    'username': 'DiaryOfShinLee',\n",
              "    'created_at': '2017-03-30T09:27:57.000Z',\n",
              "    'name': 'no ◥•ﻜٕوِبون• \\u200fﺧٕٓصٍمٍ•ﻜٕوِدٓ',\n",
              "    'id': '847379862167760896',\n",
              "    'public_metrics': {'followers_count': 87,\n",
              "     'following_count': 17,\n",
              "     'tweet_count': 4314,\n",
              "     'listed_count': 0},\n",
              "    'verified': False},\n",
              "   {'description': 'nofkyo',\n",
              "    'username': 'JackKleins',\n",
              "    'created_at': '2021-04-26T14:42:12.000Z',\n",
              "    'name': 'Jack',\n",
              "    'id': '1386691924317417481',\n",
              "    'public_metrics': {'followers_count': 797,\n",
              "     'following_count': 596,\n",
              "     'tweet_count': 5426,\n",
              "     'listed_count': 0},\n",
              "    'verified': False},\n",
              "   {'description': 'stay dangerous\\n\\ndreymwangi@gmail.com',\n",
              "    'username': 'Dreymwangi',\n",
              "    'created_at': '2014-11-06T17:57:35.000Z',\n",
              "    'name': 'drey',\n",
              "    'id': '2864194450',\n",
              "    'public_metrics': {'followers_count': 82383,\n",
              "     'following_count': 5569,\n",
              "     'tweet_count': 464963,\n",
              "     'listed_count': 69},\n",
              "    'verified': False},\n",
              "   {'description': '21. 💊DOCTOR OF PHARMACY (in a view) || MENTAL HEALTH COACH || 📖Writer || \\n🧘\\u200d♂ I AM A GOD || I tweet about MUSIC and MENTAL HEALTH 💪 🇳🇬',\n",
              "    'username': 'BOSSEROMZ',\n",
              "    'created_at': '2020-05-30T15:07:15.000Z',\n",
              "    'name': 'EROMZ || MENTAL HEALTH COACH',\n",
              "    'id': '1266747753687851015',\n",
              "    'public_metrics': {'followers_count': 1065,\n",
              "     'following_count': 1188,\n",
              "     'tweet_count': 2087,\n",
              "     'listed_count': 0},\n",
              "    'verified': False}]},\n",
              " 'meta': {'newest_id': '1562715429591601153',\n",
              "  'oldest_id': '1562715349702754308',\n",
              "  'result_count': 10,\n",
              "  'next_token': 'b26v89c19zqg8o3fpz8kqol1bo36239l57j69mqpz4b5p'}}"
            ]
          },
          "metadata": {},
          "execution_count": 55
        }
      ]
    },
    {
      "cell_type": "code",
      "source": [
        "# Figure out how to convert the JSON response to Pandas dataframe\n",
        "json_response.keys()"
      ],
      "metadata": {
        "colab": {
          "base_uri": "https://localhost:8080/"
        },
        "id": "q3KJhNXTDyS3",
        "outputId": "e96a8966-15ac-47cc-9538-cc47928f1ffb"
      },
      "execution_count": null,
      "outputs": [
        {
          "output_type": "execute_result",
          "data": {
            "text/plain": [
              "dict_keys(['data', 'includes', 'meta'])"
            ]
          },
          "metadata": {},
          "execution_count": 38
        }
      ]
    },
    {
      "cell_type": "code",
      "source": [
        "json_response[\"data\"][0].keys()"
      ],
      "metadata": {
        "colab": {
          "base_uri": "https://localhost:8080/"
        },
        "id": "wqrTXTB2D5W6",
        "outputId": "cb9e1c54-4db2-463c-a65e-a3492ea8c900"
      },
      "execution_count": null,
      "outputs": [
        {
          "output_type": "execute_result",
          "data": {
            "text/plain": [
              "dict_keys(['lang', 'source', 'in_reply_to_user_id', 'conversation_id', 'id', 'public_metrics', 'text', 'created_at', 'author_id', 'reply_settings', 'referenced_tweets'])"
            ]
          },
          "metadata": {},
          "execution_count": 41
        }
      ]
    },
    {
      "cell_type": "code",
      "source": [
        "json_response[\"data\"][0]"
      ],
      "metadata": {
        "colab": {
          "base_uri": "https://localhost:8080/"
        },
        "id": "Fbp4N8tDYSkp",
        "outputId": "593285d2-7ef4-49ca-b331-3404d18ae770"
      },
      "execution_count": null,
      "outputs": [
        {
          "output_type": "execute_result",
          "data": {
            "text/plain": [
              "{'id': '1562715429591601153',\n",
              " 'source': 'Twitter for iPhone',\n",
              " 'conversation_id': '1562177791642112000',\n",
              " 'created_at': '2022-08-25T08:16:06.000Z',\n",
              " 'referenced_tweets': [{'type': 'replied_to', 'id': '1562177791642112000'}],\n",
              " 'author_id': '707126315',\n",
              " 'reply_settings': 'everyone',\n",
              " 'public_metrics': {'retweet_count': 0,\n",
              "  'reply_count': 0,\n",
              "  'like_count': 0,\n",
              "  'quote_count': 0},\n",
              " 'text': '@vibeforvids FEAR a bad mf lol',\n",
              " 'lang': 'en',\n",
              " 'in_reply_to_user_id': '1517401430868459520'}"
            ]
          },
          "metadata": {},
          "execution_count": 57
        }
      ]
    },
    {
      "cell_type": "code",
      "source": [
        "json_response[\"includes\"]['users'][0].keys()"
      ],
      "metadata": {
        "colab": {
          "base_uri": "https://localhost:8080/"
        },
        "id": "JoB3tpmXEIYx",
        "outputId": "21ab610e-61aa-4b30-982c-a94e85be7c3c"
      },
      "execution_count": null,
      "outputs": [
        {
          "output_type": "execute_result",
          "data": {
            "text/plain": [
              "dict_keys(['created_at', 'username', 'public_metrics', 'description', 'verified', 'id', 'name'])"
            ]
          },
          "metadata": {},
          "execution_count": 48
        }
      ]
    },
    {
      "cell_type": "code",
      "source": [
        "json_response[\"includes\"]['users'][0]"
      ],
      "metadata": {
        "colab": {
          "base_uri": "https://localhost:8080/"
        },
        "id": "7mgnvfRtYv2n",
        "outputId": "fa92c0cb-d067-4e6d-af54-fc50f79c8ca7"
      },
      "execution_count": null,
      "outputs": [
        {
          "output_type": "execute_result",
          "data": {
            "text/plain": [
              "{'description': '♍️ ☀️ ♎️ 🌙 ♏️ 🔼  *Loser',\n",
              " 'username': 'FuckkMasi',\n",
              " 'created_at': '2013-10-09T23:22:10.000Z',\n",
              " 'name': 'Beautiful Loser',\n",
              " 'id': '707126315',\n",
              " 'public_metrics': {'followers_count': 305,\n",
              "  'following_count': 695,\n",
              "  'tweet_count': 10422,\n",
              "  'listed_count': 4},\n",
              " 'verified': False}"
            ]
          },
          "metadata": {},
          "execution_count": 58
        }
      ]
    },
    {
      "cell_type": "code",
      "source": [
        "json_response[\"meta\"].keys()"
      ],
      "metadata": {
        "colab": {
          "base_uri": "https://localhost:8080/"
        },
        "id": "vFVZXGxkEWc5",
        "outputId": "567d8eba-2801-43a6-bb54-c45bb59a829d"
      },
      "execution_count": null,
      "outputs": [
        {
          "output_type": "execute_result",
          "data": {
            "text/plain": [
              "dict_keys(['newest_id', 'oldest_id', 'result_count', 'next_token'])"
            ]
          },
          "metadata": {},
          "execution_count": 56
        }
      ]
    },
    {
      "cell_type": "code",
      "source": [
        "json_response[\"meta\"]"
      ],
      "metadata": {
        "id": "OjkS_jSmY3J7",
        "outputId": "07628c7a-6faa-4ae9-dce9-0c21ea8944ff",
        "colab": {
          "base_uri": "https://localhost:8080/"
        }
      },
      "execution_count": null,
      "outputs": [
        {
          "output_type": "execute_result",
          "data": {
            "text/plain": [
              "{'newest_id': '1562715429591601153',\n",
              " 'oldest_id': '1562715349702754308',\n",
              " 'result_count': 10,\n",
              " 'next_token': 'b26v89c19zqg8o3fpz8kqol1bo36239l57j69mqpz4b5p'}"
            ]
          },
          "metadata": {},
          "execution_count": 59
        }
      ]
    },
    {
      "cell_type": "code",
      "source": [
        "### CODE FROM AN ARTICLE - TO BE USED FOR INSPIRATION IN GETTING RECURRENT REQUESTS\n",
        "\n",
        "#Inputs for tweets\n",
        "bearer_token = auth()\n",
        "headers = create_headers(bearer_token)\n",
        "keyword = \"xbox lang:en\"\n",
        "start_list =    ['2021-01-01T00:00:00.000Z',\n",
        "                 '2021-02-01T00:00:00.000Z',\n",
        "                 '2021-03-01T00:00:00.000Z']\n",
        "\n",
        "end_list =      ['2021-01-31T00:00:00.000Z',\n",
        "                 '2021-02-28T00:00:00.000Z',\n",
        "                 '2021-03-31T00:00:00.000Z']\n",
        "max_results = 500\n",
        "\n",
        "#Total number of tweets we collected from the loop\n",
        "total_tweets = 0\n",
        "\n",
        "# Create file\n",
        "csvFile = open(\"data.csv\", \"a\", newline=\"\", encoding='utf-8')\n",
        "csvWriter = csv.writer(csvFile)\n",
        "\n",
        "#Create headers for the data you want to save, in this example, we only want save these columns in our dataset\n",
        "csvWriter.writerow(['author id', 'created_at', 'geo', 'id','lang', 'like_count', 'quote_count', 'reply_count','retweet_count','source','tweet'])\n",
        "csvFile.close()\n",
        "\n",
        "for i in range(0,len(start_list)):\n",
        "\n",
        "    # Inputs\n",
        "    count = 0 # Counting tweets per time period\n",
        "    max_count = 100 # Max tweets per time period\n",
        "    flag = True\n",
        "    next_token = None\n",
        "    \n",
        "    # Check if flag is true\n",
        "    while flag:\n",
        "        # Check if max_count reached\n",
        "        if count >= max_count:\n",
        "            break\n",
        "        print(\"-------------------\")\n",
        "        print(\"Token: \", next_token)\n",
        "        url = create_url(keyword, start_list[i],end_list[i], max_results)\n",
        "        json_response = connect_to_endpoint(url[0], headers, url[1], next_token)\n",
        "        result_count = json_response['meta']['result_count']\n",
        "\n",
        "        if 'next_token' in json_response['meta']:\n",
        "            # Save the token to use for next call\n",
        "            next_token = json_response['meta']['next_token']\n",
        "            print(\"Next Token: \", next_token)\n",
        "            if result_count is not None and result_count > 0 and next_token is not None:\n",
        "                print(\"Start Date: \", start_list[i])\n",
        "                append_to_csv(json_response, \"data.csv\")\n",
        "                count += result_count\n",
        "                total_tweets += result_count\n",
        "                print(\"Total # of Tweets added: \", total_tweets)\n",
        "                print(\"-------------------\")\n",
        "                time.sleep(5)                \n",
        "        # If no next token exists\n",
        "        else:\n",
        "            if result_count is not None and result_count > 0:\n",
        "                print(\"-------------------\")\n",
        "                print(\"Start Date: \", start_list[i])\n",
        "                append_to_csv(json_response, \"data.csv\")\n",
        "                count += result_count\n",
        "                total_tweets += result_count\n",
        "                print(\"Total # of Tweets added: \", total_tweets)\n",
        "                print(\"-------------------\")\n",
        "                time.sleep(5)\n",
        "            \n",
        "            #Since this is the final request, turn flag to false to move to the next time period.\n",
        "            flag = False\n",
        "            next_token = None\n",
        "        time.sleep(5)\n",
        "print(\"Total number of results: \", total_tweets)"
      ],
      "metadata": {
        "id": "0bU_uJ2ji6Wj"
      },
      "execution_count": null,
      "outputs": []
    }
  ]
}